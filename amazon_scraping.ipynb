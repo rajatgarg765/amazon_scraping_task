{
 "cells": [
  {
   "cell_type": "code",
   "execution_count": 1,
   "id": "72037e62",
   "metadata": {},
   "outputs": [],
   "source": [
    "import pandas as pd\n",
    "from bs4 import BeautifulSoup"
   ]
  },
  {
   "cell_type": "code",
   "execution_count": 2,
   "id": "a5bf9d7f",
   "metadata": {},
   "outputs": [],
   "source": [
    "import time\n",
    "import requests"
   ]
  },
  {
   "cell_type": "code",
   "execution_count": 3,
   "id": "8b62b3f2",
   "metadata": {},
   "outputs": [
    {
     "data": {
      "text/html": [
       "<div>\n",
       "<style scoped>\n",
       "    .dataframe tbody tr th:only-of-type {\n",
       "        vertical-align: middle;\n",
       "    }\n",
       "\n",
       "    .dataframe tbody tr th {\n",
       "        vertical-align: top;\n",
       "    }\n",
       "\n",
       "    .dataframe thead th {\n",
       "        text-align: right;\n",
       "    }\n",
       "</style>\n",
       "<table border=\"1\" class=\"dataframe\">\n",
       "  <thead>\n",
       "    <tr style=\"text-align: right;\">\n",
       "      <th></th>\n",
       "      <th>Unnamed: 0</th>\n",
       "      <th>id</th>\n",
       "      <th>Asin</th>\n",
       "      <th>country</th>\n",
       "    </tr>\n",
       "  </thead>\n",
       "  <tbody>\n",
       "    <tr>\n",
       "      <th>0</th>\n",
       "      <td>0</td>\n",
       "      <td>1</td>\n",
       "      <td>1015</td>\n",
       "      <td>de</td>\n",
       "    </tr>\n",
       "    <tr>\n",
       "      <th>1</th>\n",
       "      <td>1</td>\n",
       "      <td>2424796</td>\n",
       "      <td>1015</td>\n",
       "      <td>fr</td>\n",
       "    </tr>\n",
       "    <tr>\n",
       "      <th>2</th>\n",
       "      <td>2</td>\n",
       "      <td>2</td>\n",
       "      <td>000004458X</td>\n",
       "      <td>de</td>\n",
       "    </tr>\n",
       "    <tr>\n",
       "      <th>3</th>\n",
       "      <td>3</td>\n",
       "      <td>2424797</td>\n",
       "      <td>000004458X</td>\n",
       "      <td>fr</td>\n",
       "    </tr>\n",
       "    <tr>\n",
       "      <th>4</th>\n",
       "      <td>4</td>\n",
       "      <td>3</td>\n",
       "      <td>1002198</td>\n",
       "      <td>de</td>\n",
       "    </tr>\n",
       "  </tbody>\n",
       "</table>\n",
       "</div>"
      ],
      "text/plain": [
       "   Unnamed: 0       id        Asin country\n",
       "0           0        1        1015      de\n",
       "1           1  2424796        1015      fr\n",
       "2           2        2  000004458X      de\n",
       "3           3  2424797  000004458X      fr\n",
       "4           4        3     1002198      de"
      ]
     },
     "execution_count": 3,
     "metadata": {},
     "output_type": "execute_result"
    }
   ],
   "source": [
    "df=pd.read_csv(\"Amazon Scraping - Sheet1.csv\")\n",
    "df.head()"
   ]
  },
  {
   "cell_type": "code",
   "execution_count": 4,
   "id": "cf2598d5",
   "metadata": {},
   "outputs": [
    {
     "name": "stdout",
     "output_type": "stream",
     "text": [
      "<Response [200]>\n",
      "<span class=\"a-size-large product-title-word-break\" id=\"productTitle\">        Old Spice Rasur Creme - 70 G (original) - Packung Von 2       </span>\n",
      "{\"https://m.media-amazon.com/images/I/41xHbjdSXJL._SX355_PIbundle-2,TopRight,0,0_SX355SY222SH20_.jpg\":[222,355],\"https://m.media-amazon.com/images/I/41xHbjdSXJL._SX425_PIbundle-2,TopRight,0,0_SX425SY266SH20_.jpg\":[266,425],\"https://m.media-amazon.com/images/I/41xHbjdSXJL._PIbundle-2,TopRight,0,0_SX480SY300SH20_.jpg\":[300,480],\"https://m.media-amazon.com/images/I/41xHbjdSXJL._SX450_PIbundle-2,TopRight,0,0_SX450SY281SH20_.jpg\":[281,450],\"https://m.media-amazon.com/images/I/41xHbjdSXJL._SX466_PIbundle-2,TopRight,0,0_SX466SY291SH20_.jpg\":[291,466]}\n"
     ]
    }
   ],
   "source": [
    "x1=\"https://www.amazon.de/dp/000004458X\"\n",
    "# from selenium import webdriver\n",
    "from requests.auth import HTTPBasicAuth\n",
    "headers = {'User-Agent': 'Mozilla/5.0 (Windows NT 6.3; Win64; x64) AppleWebKit/537.36 (KHTML, like Gecko) Chrome/54.0.2840.71 Safari/537.36'}\n",
    "webpage = requests.get(x1,headers=headers,auth=HTTPBasicAuth('rajat', 'password'))\n",
    "print(webpage)\n",
    "soup = BeautifulSoup(webpage.content, \"lxml\")\n",
    "\n",
    "\n",
    "try:\n",
    "  result1={}\n",
    "  title = soup.find(\"span\",attrs={\"id\": 'productTitle'})\n",
    "  img=soup.find(\"div\",attrs={\"id\":'imgTagWrapperId'})\n",
    "  print(title)\n",
    "  print(img.img['data-a-dynamic-image'])\n",
    "  result1['img']=img.img['data-a-dynamic-image']\n",
    "\n",
    "  title_value = title.string\n",
    "  result1['title']=title_value\n",
    "  #print(title_value)\n",
    "\n",
    "  price=soup.find(\"span\",attrs={\"class\":'a-offscreen'})\n",
    "  price_string = price.text.replace(',', '.')\n",
    "  price_string = price_string.replace('€', '')\n",
    "  result1['price']=price_string\n",
    "  \n",
    "  productDetails=soup.find(\"ul\",attrs={\"class\":'a-unordered-list a-vertical a-spacing-mini'})\n",
    "  #print(productDetails.text)\n",
    "  result1['product-deatils']=productDetails.text\n",
    "           \n",
    "except Exception as e:\n",
    "    print(x1)"
   ]
  },
  {
   "cell_type": "code",
   "execution_count": 5,
   "id": "cf4e5dcb",
   "metadata": {},
   "outputs": [
    {
     "name": "stdout",
     "output_type": "stream",
     "text": [
      "{'img': '{\"https://m.media-amazon.com/images/I/41xHbjdSXJL._SX355_PIbundle-2,TopRight,0,0_SX355SY222SH20_.jpg\":[222,355],\"https://m.media-amazon.com/images/I/41xHbjdSXJL._SX425_PIbundle-2,TopRight,0,0_SX425SY266SH20_.jpg\":[266,425],\"https://m.media-amazon.com/images/I/41xHbjdSXJL._PIbundle-2,TopRight,0,0_SX480SY300SH20_.jpg\":[300,480],\"https://m.media-amazon.com/images/I/41xHbjdSXJL._SX450_PIbundle-2,TopRight,0,0_SX450SY281SH20_.jpg\":[281,450],\"https://m.media-amazon.com/images/I/41xHbjdSXJL._SX466_PIbundle-2,TopRight,0,0_SX466SY291SH20_.jpg\":[291,466]}', 'title': '        Old Spice Rasur Creme - 70 G (original) - Packung Von 2       ', 'price': '8.00', 'product-deatils': '  Gute Schmierqualität in Old Spice Lather Rasierschaum gibt optimale Gleitfähigkeit aktions eine engere, angenehme Rasur. Richer, länger - dauernden Schaum hält während Ihrer Rasur auf. Verwenden Old Spice Lather Rasiercreme, wo Sie die männliche Frische der alten Gewürz finden.   '}\n"
     ]
    }
   ],
   "source": [
    "print(result1)"
   ]
  },
  {
   "cell_type": "code",
   "execution_count": 6,
   "id": "1d549a8e",
   "metadata": {},
   "outputs": [
    {
     "name": "stdout",
     "output_type": "stream",
     "text": [
      "1 https://www.amazon.de/dp/1015\n",
      "2 https://www.amazon.fr/dp/1015\n",
      "3 --------------FOUND----------------\n",
      "4 https://www.amazon.fr/dp/000004458X\n",
      "5 https://www.amazon.de/dp/1002198\n",
      "6 https://www.amazon.fr/dp/1002198\n",
      "7 https://www.amazon.fr/dp/1002791\n",
      "8 https://www.amazon.it/dp/1002791\n",
      "9 https://www.amazon.de/dp/1002864\n",
      "10 https://www.amazon.fr/dp/1002864\n",
      "11 https://www.amazon.de/dp/1003704\n",
      "12 https://www.amazon.fr/dp/1003704\n",
      "13 https://www.amazon.de/dp/1003763\n",
      "14 https://www.amazon.fr/dp/1003763\n",
      "15 https://www.amazon.fr/dp/1004271\n",
      "16 https://www.amazon.it/dp/1004271\n",
      "17 https://www.amazon.de/dp/000101742X\n",
      "18 https://www.amazon.fr/dp/000101742X\n",
      "19 https://www.amazon.de/dp/1017519\n",
      "20 https://www.amazon.fr/dp/1017519\n",
      "21 https://www.amazon.de/dp/000102163X\n",
      "22 https://www.amazon.fr/dp/000102163X\n",
      "23 https://www.amazon.fr/dp/1022369\n",
      "24 https://www.amazon.it/dp/1022369\n",
      "25 https://www.amazon.fr/dp/1022857\n",
      "26 https://www.amazon.it/dp/1022857\n",
      "27 https://www.amazon.de/dp/1032666\n",
      "28 https://www.amazon.fr/dp/1032666\n",
      "29 https://www.amazon.de/dp/1034677\n",
      "30 https://www.amazon.fr/dp/1034677\n",
      "31 https://www.amazon.de/dp/1034936\n",
      "32 https://www.amazon.fr/dp/1034936\n",
      "33 https://www.amazon.de/dp/1034944\n",
      "34 https://www.amazon.fr/dp/1034944\n",
      "35 https://www.amazon.de/dp/1035002\n",
      "36 https://www.amazon.fr/dp/1035002\n",
      "37 https://www.amazon.de/dp/1035029\n",
      "38 https://www.amazon.fr/dp/1035029\n",
      "39 https://www.amazon.de/dp/1035053\n",
      "40 https://www.amazon.es/dp/1035053\n",
      "41 https://www.amazon.fr/dp/1035053\n",
      "42 https://www.amazon.de/dp/1035339\n",
      "43 https://www.amazon.fr/dp/1035339\n",
      "44 https://www.amazon.de/dp/1036866\n",
      "45 https://www.amazon.es/dp/1036866\n",
      "46 https://www.amazon.fr/dp/1036866\n",
      "47 https://www.amazon.de/dp/1037137\n",
      "48 https://www.amazon.fr/dp/1037137\n",
      "49 https://www.amazon.de/dp/1037188\n",
      "50 https://www.amazon.fr/dp/1037188\n",
      "51 https://www.amazon.de/dp/1037994\n",
      "52 https://www.amazon.fr/dp/1037994\n",
      "53 https://www.amazon.de/dp/000103863X\n",
      "54 https://www.amazon.fr/dp/000103863X\n",
      "55 https://www.amazon.de/dp/1039466\n",
      "56 https://www.amazon.fr/dp/1039466\n",
      "57 https://www.amazon.fr/dp/1040871\n",
      "58 https://www.amazon.it/dp/1040871\n",
      "59 https://www.amazon.de/dp/1040979\n",
      "60 https://www.amazon.fr/dp/1040979\n",
      "61 https://www.amazon.de/dp/1040987\n",
      "62 https://www.amazon.fr/dp/1040987\n",
      "63 https://www.amazon.de/dp/1041002\n",
      "64 https://www.amazon.fr/dp/1041002\n",
      "65 https://www.amazon.de/dp/1041991\n",
      "66 https://www.amazon.fr/dp/1041991\n",
      "67 https://www.amazon.de/dp/000104317X\n",
      "68 https://www.amazon.fr/dp/000104317X\n",
      "69 https://www.amazon.de/dp/1043331\n",
      "70 https://www.amazon.fr/dp/1043331\n",
      "71 https://www.amazon.de/dp/000104348X\n",
      "72 https://www.amazon.fr/dp/000104348X\n",
      "73 https://www.amazon.de/dp/1043498\n",
      "74 https://www.amazon.fr/dp/1043498\n",
      "75 https://www.amazon.de/dp/1043773\n",
      "76 https://www.amazon.fr/dp/1043773\n",
      "77 https://www.amazon.de/dp/000104396X\n",
      "78 https://www.amazon.fr/dp/000104396X\n",
      "79 https://www.amazon.de/dp/1048325\n",
      "80 https://www.amazon.fr/dp/1048325\n",
      "81 https://www.amazon.de/dp/1049119\n",
      "82 https://www.amazon.fr/dp/1049119\n",
      "83 https://www.amazon.de/dp/1057774\n",
      "84 https://www.amazon.fr/dp/1057774\n",
      "85 https://www.amazon.de/dp/1057790\n",
      "86 https://www.amazon.es/dp/1057790\n",
      "87 https://www.amazon.fr/dp/1057790\n",
      "88 https://www.amazon.de/dp/1057812\n",
      "89 https://www.amazon.es/dp/1057812\n",
      "90 https://www.amazon.fr/dp/1057812\n",
      "91 https://www.amazon.de/dp/1057987\n",
      "92 https://www.amazon.fr/dp/1057987\n",
      "93 https://www.amazon.de/dp/1059238\n",
      "94 https://www.amazon.fr/dp/1059238\n",
      "95 https://www.amazon.de/dp/1060619\n",
      "96 https://www.amazon.fr/dp/1060619\n",
      "97 https://www.amazon.de/dp/1060694\n",
      "98 https://www.amazon.es/dp/1060694\n",
      "99 https://www.amazon.fr/dp/1060694\n",
      "100 https://www.amazon.de/dp/1061305\n"
     ]
    }
   ],
   "source": [
    "c=0\n",
    "mega= {}\n",
    "result={}\n",
    "for i, j in zip(range(len(df['country'])), range(len(df['Asin']))):\n",
    "  url=\"https://www.amazon.{}/dp/{}\".format(df['country'][i],df['Asin'][j])\n",
    "  headers = {'User-Agent': 'Mozilla/5.0 (Windows NT 6.3; Win64; x64) AppleWebKit/537.36 (KHTML, like Gecko) Chrome/54.0.2840.71 Safari/537.36'}\n",
    "  # print(url)\n",
    "  if c==100:\n",
    "    break\n",
    "  c+=1\n",
    "  try:\n",
    "    webpage = requests.get(url, headers = headers, auth=HTTPBasicAuth('rajat', 'password'))\n",
    "    soup = BeautifulSoup(webpage.content, \"lxml\")\n",
    "    \n",
    "    title = soup.find(\"span\",attrs={\"id\": 'productTitle'})\n",
    "    img=soup.find(\"div\",attrs={\"id\":'imgTagWrapperId'})\n",
    "    #print(img.img['data-a-dynamic-image'])\n",
    "    result['img']=img.img['data-a-dynamic-image']\n",
    "\n",
    "    title_value = title.string\n",
    "    title.string = title.string.replace(' ', '')\n",
    "    result['title']=title.string\n",
    "\n",
    "    #print(title_value)\n",
    "\n",
    "    price=soup.find(\"span\",attrs={\"class\":'a-offscreen'})\n",
    "    price_string = price.text.replace(',', '.')\n",
    "    price_string = price_string.replace('€', '')\n",
    "    result['price']=price_string\n",
    "  \n",
    "    productDetails=soup.find(\"ul\",attrs={\"class\":'a-unordered-list a-vertical a-spacing-mini'})\n",
    "    #print(productDetails.text)\n",
    "    result['product-deatils']=productDetails.text\n",
    "    mega[c] = result\n",
    "  \n",
    "    print(c,\"--------------FOUND----------------\")\n",
    "  except Exception as e:\n",
    "      print(c, url, \"Not found\")"
   ]
  },
  {
   "cell_type": "code",
   "execution_count": 7,
   "id": "03c18eec",
   "metadata": {},
   "outputs": [
    {
     "name": "stdout",
     "output_type": "stream",
     "text": [
      "{3: {'img': '{\"https://m.media-amazon.com/images/I/41xHbjdSXJL._SX355_PIbundle-2,TopRight,0,0_SX355SY222SH20_.jpg\":[222,355],\"https://m.media-amazon.com/images/I/41xHbjdSXJL._SX425_PIbundle-2,TopRight,0,0_SX425SY266SH20_.jpg\":[266,425],\"https://m.media-amazon.com/images/I/41xHbjdSXJL._PIbundle-2,TopRight,0,0_SX480SY300SH20_.jpg\":[300,480],\"https://m.media-amazon.com/images/I/41xHbjdSXJL._SX450_PIbundle-2,TopRight,0,0_SX450SY281SH20_.jpg\":[281,450],\"https://m.media-amazon.com/images/I/41xHbjdSXJL._SX466_PIbundle-2,TopRight,0,0_SX466SY291SH20_.jpg\":[291,466]}', 'title': 'OldSpiceRasurCreme-70G(original)-PackungVon2', 'price': '8.00', 'product-deatils': '  Gute Schmierqualität in Old Spice Lather Rasierschaum gibt optimale Gleitfähigkeit aktions eine engere, angenehme Rasur. Richer, länger - dauernden Schaum hält während Ihrer Rasur auf. Verwenden Old Spice Lather Rasiercreme, wo Sie die männliche Frische der alten Gewürz finden.   '}}\n"
     ]
    }
   ],
   "source": [
    "print(mega)"
   ]
  },
  {
   "cell_type": "code",
   "execution_count": 8,
   "id": "3dad8ff3",
   "metadata": {},
   "outputs": [
    {
     "name": "stdout",
     "output_type": "stream",
     "text": [
      "{\n",
      "    \"3\": {\n",
      "        \"img\": \"{\\\"https://m.media-amazon.com/images/I/41xHbjdSXJL._SX355_PIbundle-2,TopRight,0,0_SX355SY222SH20_.jpg\\\":[222,355],\\\"https://m.media-amazon.com/images/I/41xHbjdSXJL._SX425_PIbundle-2,TopRight,0,0_SX425SY266SH20_.jpg\\\":[266,425],\\\"https://m.media-amazon.com/images/I/41xHbjdSXJL._PIbundle-2,TopRight,0,0_SX480SY300SH20_.jpg\\\":[300,480],\\\"https://m.media-amazon.com/images/I/41xHbjdSXJL._SX450_PIbundle-2,TopRight,0,0_SX450SY281SH20_.jpg\\\":[281,450],\\\"https://m.media-amazon.com/images/I/41xHbjdSXJL._SX466_PIbundle-2,TopRight,0,0_SX466SY291SH20_.jpg\\\":[291,466]}\",\n",
      "        \"title\": \"OldSpiceRasurCreme-70G(original)-PackungVon2\",\n",
      "        \"price\": \"8.00\",\n",
      "        \"product-deatils\": \"  Gute Schmierqualit\\u00e4t in Old Spice Lather Rasierschaum gibt optimale Gleitf\\u00e4higkeit aktions eine engere, angenehme Rasur. Richer, l\\u00e4nger - dauernden Schaum h\\u00e4lt w\\u00e4hrend Ihrer Rasur auf. Verwenden Old Spice Lather Rasiercreme, wo Sie die m\\u00e4nnliche Frische der alten Gew\\u00fcrz finden.   \"\n",
      "    }\n",
      "}\n"
     ]
    }
   ],
   "source": [
    "import json  \n",
    "json_object = json.dumps(mega, indent = 4) \n",
    "print(json_object)"
   ]
  },
  {
   "cell_type": "code",
   "execution_count": 9,
   "id": "c8961a8d",
   "metadata": {},
   "outputs": [],
   "source": [
    "with open(\"result.json\", \"w\") as outfile:\n",
    "    outfile.write(json_object)"
   ]
  },
  {
   "cell_type": "code",
   "execution_count": 10,
   "id": "fdfe1c86",
   "metadata": {},
   "outputs": [
    {
     "name": "stdout",
     "output_type": "stream",
     "text": [
      "Collecting mysql-connector-python\n",
      "  Downloading mysql_connector_python-8.0.29-cp38-cp38-win_amd64.whl (7.7 MB)\n",
      "Collecting protobuf>=3.0.0\n",
      "  Downloading protobuf-4.21.2-cp38-cp38-win_amd64.whl (524 kB)\n",
      "Installing collected packages: protobuf, mysql-connector-python\n",
      "Successfully installed mysql-connector-python-8.0.29 protobuf-4.21.2\n"
     ]
    }
   ],
   "source": [
    "!pip install mysql-connector-python"
   ]
  },
  {
   "cell_type": "code",
   "execution_count": 15,
   "id": "1fde632d",
   "metadata": {},
   "outputs": [
    {
     "name": "stdout",
     "output_type": "stream",
     "text": [
      "Collecting ipython-sql\n",
      "  Downloading ipython_sql-0.4.1-py3-none-any.whl (21 kB)\n",
      "Requirement already satisfied: ipython-genutils>=0.1.0 in c:\\users\\info\\anaconda3\\lib\\site-packages (from ipython-sql) (0.2.0)\n",
      "Requirement already satisfied: six in c:\\users\\info\\anaconda3\\lib\\site-packages (from ipython-sql) (1.15.0)\n",
      "Requirement already satisfied: ipython>=1.0 in c:\\users\\info\\anaconda3\\lib\\site-packages (from ipython-sql) (7.22.0)\n",
      "Requirement already satisfied: sqlalchemy>=0.6.7 in c:\\users\\info\\anaconda3\\lib\\site-packages (from ipython-sql) (1.4.7)\n",
      "Collecting prettytable<1\n",
      "  Downloading prettytable-0.7.2.zip (28 kB)\n",
      "Requirement already satisfied: sqlparse in c:\\users\\info\\anaconda3\\lib\\site-packages (from ipython-sql) (0.4.2)\n",
      "Requirement already satisfied: traitlets>=4.2 in c:\\users\\info\\anaconda3\\lib\\site-packages (from ipython>=1.0->ipython-sql) (5.0.5)\n",
      "Requirement already satisfied: pickleshare in c:\\users\\info\\anaconda3\\lib\\site-packages (from ipython>=1.0->ipython-sql) (0.7.5)\n",
      "Requirement already satisfied: colorama in c:\\users\\info\\anaconda3\\lib\\site-packages (from ipython>=1.0->ipython-sql) (0.4.4)\n",
      "Requirement already satisfied: decorator in c:\\users\\info\\anaconda3\\lib\\site-packages (from ipython>=1.0->ipython-sql) (4.0.11)\n",
      "Requirement already satisfied: prompt-toolkit!=3.0.0,!=3.0.1,<3.1.0,>=2.0.0 in c:\\users\\info\\anaconda3\\lib\\site-packages (from ipython>=1.0->ipython-sql) (3.0.17)\n",
      "Requirement already satisfied: setuptools>=18.5 in c:\\users\\info\\anaconda3\\lib\\site-packages (from ipython>=1.0->ipython-sql) (52.0.0.post20210125)\n",
      "Requirement already satisfied: pygments in c:\\users\\info\\anaconda3\\lib\\site-packages (from ipython>=1.0->ipython-sql) (2.8.1)\n",
      "Requirement already satisfied: backcall in c:\\users\\info\\anaconda3\\lib\\site-packages (from ipython>=1.0->ipython-sql) (0.2.0)\n",
      "Requirement already satisfied: jedi>=0.16 in c:\\users\\info\\anaconda3\\lib\\site-packages (from ipython>=1.0->ipython-sql) (0.17.2)\n",
      "Requirement already satisfied: parso<0.8.0,>=0.7.0 in c:\\users\\info\\anaconda3\\lib\\site-packages (from jedi>=0.16->ipython>=1.0->ipython-sql) (0.7.0)\n",
      "Requirement already satisfied: wcwidth in c:\\users\\info\\anaconda3\\lib\\site-packages (from prompt-toolkit!=3.0.0,!=3.0.1,<3.1.0,>=2.0.0->ipython>=1.0->ipython-sql) (0.2.5)\n",
      "Requirement already satisfied: greenlet!=0.4.17 in c:\\users\\info\\anaconda3\\lib\\site-packages (from sqlalchemy>=0.6.7->ipython-sql) (1.0.0)\n",
      "Building wheels for collected packages: prettytable\n",
      "  Building wheel for prettytable (setup.py): started\n",
      "  Building wheel for prettytable (setup.py): finished with status 'done'\n",
      "  Created wheel for prettytable: filename=prettytable-0.7.2-py3-none-any.whl size=13699 sha256=80ea11a9271ce9b08d881e644dc676f1a8fa49f3f9237133c83572675bb86817\n",
      "  Stored in directory: c:\\users\\info\\appdata\\local\\pip\\cache\\wheels\\48\\6d\\77\\9517cb933af254f51a446f1a5ec9c2be3e45f17384940bce68\n",
      "Successfully built prettytable\n",
      "Installing collected packages: prettytable, ipython-sql\n",
      "Successfully installed ipython-sql-0.4.1 prettytable-0.7.2\n"
     ]
    }
   ],
   "source": [
    "!pip3 install ipython-sql"
   ]
  },
  {
   "cell_type": "code",
   "execution_count": 18,
   "id": "e548024a",
   "metadata": {},
   "outputs": [
    {
     "name": "stdout",
     "output_type": "stream",
     "text": [
      "Collecting pymysql\n",
      "  Downloading PyMySQL-1.0.2-py3-none-any.whl (43 kB)\n",
      "Installing collected packages: pymysql\n",
      "Successfully installed pymysql-1.0.2\n"
     ]
    }
   ],
   "source": [
    "!pip3 install pymysql"
   ]
  },
  {
   "cell_type": "code",
   "execution_count": 19,
   "id": "3832579f",
   "metadata": {},
   "outputs": [
    {
     "name": "stdout",
     "output_type": "stream",
     "text": [
      "Collecting mysqlclient\n",
      "  Downloading mysqlclient-2.1.1-cp38-cp38-win_amd64.whl (178 kB)\n",
      "Installing collected packages: mysqlclient\n",
      "Successfully installed mysqlclient-2.1.1\n"
     ]
    }
   ],
   "source": [
    "!pip3 install mysqlclient"
   ]
  },
  {
   "cell_type": "code",
   "execution_count": 21,
   "id": "3993aff7",
   "metadata": {},
   "outputs": [],
   "source": [
    "import pymysql"
   ]
  },
  {
   "cell_type": "code",
   "execution_count": 24,
   "id": "41b47cc7",
   "metadata": {},
   "outputs": [
    {
     "ename": "OperationalError",
     "evalue": "(2003, \"Can't connect to MySQL server on 'localhost' ([WinError 10061] No connection could be made because the target machine actively refused it)\")",
     "output_type": "error",
     "traceback": [
      "\u001b[1;31m---------------------------------------------------------------------------\u001b[0m",
      "\u001b[1;31mConnectionRefusedError\u001b[0m                    Traceback (most recent call last)",
      "\u001b[1;32m~\\anaconda3\\lib\\site-packages\\pymysql\\connections.py\u001b[0m in \u001b[0;36mconnect\u001b[1;34m(self, sock)\u001b[0m\n\u001b[0;32m    612\u001b[0m                         \u001b[1;32mtry\u001b[0m\u001b[1;33m:\u001b[0m\u001b[1;33m\u001b[0m\u001b[1;33m\u001b[0m\u001b[0m\n\u001b[1;32m--> 613\u001b[1;33m                             sock = socket.create_connection(\n\u001b[0m\u001b[0;32m    614\u001b[0m                                 \u001b[1;33m(\u001b[0m\u001b[0mself\u001b[0m\u001b[1;33m.\u001b[0m\u001b[0mhost\u001b[0m\u001b[1;33m,\u001b[0m \u001b[0mself\u001b[0m\u001b[1;33m.\u001b[0m\u001b[0mport\u001b[0m\u001b[1;33m)\u001b[0m\u001b[1;33m,\u001b[0m \u001b[0mself\u001b[0m\u001b[1;33m.\u001b[0m\u001b[0mconnect_timeout\u001b[0m\u001b[1;33m,\u001b[0m \u001b[1;33m**\u001b[0m\u001b[0mkwargs\u001b[0m\u001b[1;33m\u001b[0m\u001b[1;33m\u001b[0m\u001b[0m\n",
      "\u001b[1;32m~\\anaconda3\\lib\\socket.py\u001b[0m in \u001b[0;36mcreate_connection\u001b[1;34m(address, timeout, source_address)\u001b[0m\n\u001b[0;32m    807\u001b[0m         \u001b[1;32mtry\u001b[0m\u001b[1;33m:\u001b[0m\u001b[1;33m\u001b[0m\u001b[1;33m\u001b[0m\u001b[0m\n\u001b[1;32m--> 808\u001b[1;33m             \u001b[1;32mraise\u001b[0m \u001b[0merr\u001b[0m\u001b[1;33m\u001b[0m\u001b[1;33m\u001b[0m\u001b[0m\n\u001b[0m\u001b[0;32m    809\u001b[0m         \u001b[1;32mfinally\u001b[0m\u001b[1;33m:\u001b[0m\u001b[1;33m\u001b[0m\u001b[1;33m\u001b[0m\u001b[0m\n",
      "\u001b[1;32m~\\anaconda3\\lib\\socket.py\u001b[0m in \u001b[0;36mcreate_connection\u001b[1;34m(address, timeout, source_address)\u001b[0m\n\u001b[0;32m    795\u001b[0m                 \u001b[0msock\u001b[0m\u001b[1;33m.\u001b[0m\u001b[0mbind\u001b[0m\u001b[1;33m(\u001b[0m\u001b[0msource_address\u001b[0m\u001b[1;33m)\u001b[0m\u001b[1;33m\u001b[0m\u001b[1;33m\u001b[0m\u001b[0m\n\u001b[1;32m--> 796\u001b[1;33m             \u001b[0msock\u001b[0m\u001b[1;33m.\u001b[0m\u001b[0mconnect\u001b[0m\u001b[1;33m(\u001b[0m\u001b[0msa\u001b[0m\u001b[1;33m)\u001b[0m\u001b[1;33m\u001b[0m\u001b[1;33m\u001b[0m\u001b[0m\n\u001b[0m\u001b[0;32m    797\u001b[0m             \u001b[1;31m# Break explicitly a reference cycle\u001b[0m\u001b[1;33m\u001b[0m\u001b[1;33m\u001b[0m\u001b[1;33m\u001b[0m\u001b[0m\n",
      "\u001b[1;31mConnectionRefusedError\u001b[0m: [WinError 10061] No connection could be made because the target machine actively refused it",
      "\nDuring handling of the above exception, another exception occurred:\n",
      "\u001b[1;31mOperationalError\u001b[0m                          Traceback (most recent call last)",
      "\u001b[1;32m<ipython-input-24-1a280ab7440f>\u001b[0m in \u001b[0;36m<module>\u001b[1;34m\u001b[0m\n\u001b[1;32m----> 1\u001b[1;33m \u001b[0mconn\u001b[0m\u001b[1;33m=\u001b[0m\u001b[0mpymysql\u001b[0m\u001b[1;33m.\u001b[0m\u001b[0mconnect\u001b[0m\u001b[1;33m(\u001b[0m\u001b[0mhost\u001b[0m\u001b[1;33m=\u001b[0m\u001b[1;34m'localhost'\u001b[0m\u001b[1;33m,\u001b[0m\u001b[0mport\u001b[0m\u001b[1;33m=\u001b[0m\u001b[0mint\u001b[0m\u001b[1;33m(\u001b[0m\u001b[1;36m3306\u001b[0m\u001b[1;33m)\u001b[0m\u001b[1;33m,\u001b[0m\u001b[0muser\u001b[0m\u001b[1;33m=\u001b[0m\u001b[1;34m'root'\u001b[0m\u001b[1;33m,\u001b[0m\u001b[0mpasswd\u001b[0m\u001b[1;33m=\u001b[0m\u001b[1;34m'rajat'\u001b[0m\u001b[1;33m,\u001b[0m\u001b[0mdb\u001b[0m\u001b[1;33m=\u001b[0m\u001b[1;34m'Python_Scrap'\u001b[0m\u001b[1;33m)\u001b[0m\u001b[1;33m\u001b[0m\u001b[1;33m\u001b[0m\u001b[0m\n\u001b[0m\u001b[0;32m      2\u001b[0m \u001b[1;33m\u001b[0m\u001b[0m\n\u001b[0;32m      3\u001b[0m \u001b[0mdf\u001b[0m\u001b[1;33m=\u001b[0m\u001b[0mpd\u001b[0m\u001b[1;33m.\u001b[0m\u001b[0mread_sql_query\u001b[0m\u001b[1;33m(\u001b[0m\u001b[1;34m\"SELECT * FROM 'YOUR_TABLENAME' \"\u001b[0m\u001b[1;33m,\u001b[0m\u001b[0mconn\u001b[0m\u001b[1;33m)\u001b[0m\u001b[1;33m\u001b[0m\u001b[1;33m\u001b[0m\u001b[0m\n\u001b[0;32m      4\u001b[0m \u001b[1;33m\u001b[0m\u001b[0m\n\u001b[0;32m      5\u001b[0m \u001b[0mprint\u001b[0m\u001b[1;33m(\u001b[0m\u001b[0mdf\u001b[0m\u001b[1;33m)\u001b[0m\u001b[1;33m\u001b[0m\u001b[1;33m\u001b[0m\u001b[0m\n",
      "\u001b[1;32m~\\anaconda3\\lib\\site-packages\\pymysql\\connections.py\u001b[0m in \u001b[0;36m__init__\u001b[1;34m(self, user, password, host, database, unix_socket, port, charset, sql_mode, read_default_file, conv, use_unicode, client_flag, cursorclass, init_command, connect_timeout, read_default_group, autocommit, local_infile, max_allowed_packet, defer_connect, auth_plugin_map, read_timeout, write_timeout, bind_address, binary_prefix, program_name, server_public_key, ssl, ssl_ca, ssl_cert, ssl_disabled, ssl_key, ssl_verify_cert, ssl_verify_identity, compress, named_pipe, passwd, db)\u001b[0m\n\u001b[0;32m    351\u001b[0m             \u001b[0mself\u001b[0m\u001b[1;33m.\u001b[0m\u001b[0m_sock\u001b[0m \u001b[1;33m=\u001b[0m \u001b[1;32mNone\u001b[0m\u001b[1;33m\u001b[0m\u001b[1;33m\u001b[0m\u001b[0m\n\u001b[0;32m    352\u001b[0m         \u001b[1;32melse\u001b[0m\u001b[1;33m:\u001b[0m\u001b[1;33m\u001b[0m\u001b[1;33m\u001b[0m\u001b[0m\n\u001b[1;32m--> 353\u001b[1;33m             \u001b[0mself\u001b[0m\u001b[1;33m.\u001b[0m\u001b[0mconnect\u001b[0m\u001b[1;33m(\u001b[0m\u001b[1;33m)\u001b[0m\u001b[1;33m\u001b[0m\u001b[1;33m\u001b[0m\u001b[0m\n\u001b[0m\u001b[0;32m    354\u001b[0m \u001b[1;33m\u001b[0m\u001b[0m\n\u001b[0;32m    355\u001b[0m     \u001b[1;32mdef\u001b[0m \u001b[0m__enter__\u001b[0m\u001b[1;33m(\u001b[0m\u001b[0mself\u001b[0m\u001b[1;33m)\u001b[0m\u001b[1;33m:\u001b[0m\u001b[1;33m\u001b[0m\u001b[1;33m\u001b[0m\u001b[0m\n",
      "\u001b[1;32m~\\anaconda3\\lib\\site-packages\\pymysql\\connections.py\u001b[0m in \u001b[0;36mconnect\u001b[1;34m(self, sock)\u001b[0m\n\u001b[0;32m    662\u001b[0m                 \u001b[1;32mif\u001b[0m \u001b[0mDEBUG\u001b[0m\u001b[1;33m:\u001b[0m\u001b[1;33m\u001b[0m\u001b[1;33m\u001b[0m\u001b[0m\n\u001b[0;32m    663\u001b[0m                     \u001b[0mprint\u001b[0m\u001b[1;33m(\u001b[0m\u001b[0mexc\u001b[0m\u001b[1;33m.\u001b[0m\u001b[0mtraceback\u001b[0m\u001b[1;33m)\u001b[0m\u001b[1;33m\u001b[0m\u001b[1;33m\u001b[0m\u001b[0m\n\u001b[1;32m--> 664\u001b[1;33m                 \u001b[1;32mraise\u001b[0m \u001b[0mexc\u001b[0m\u001b[1;33m\u001b[0m\u001b[1;33m\u001b[0m\u001b[0m\n\u001b[0m\u001b[0;32m    665\u001b[0m \u001b[1;33m\u001b[0m\u001b[0m\n\u001b[0;32m    666\u001b[0m             \u001b[1;31m# If e is neither DatabaseError or IOError, It's a bug.\u001b[0m\u001b[1;33m\u001b[0m\u001b[1;33m\u001b[0m\u001b[1;33m\u001b[0m\u001b[0m\n",
      "\u001b[1;31mOperationalError\u001b[0m: (2003, \"Can't connect to MySQL server on 'localhost' ([WinError 10061] No connection could be made because the target machine actively refused it)\")"
     ]
    }
   ],
   "source": [
    "conn=pymysql.connect(host='localhost',port=int(3306),user='root',passwd='rajat',db='Python_Scrap')\n",
    "\n",
    "df=pd.read_sql_query(\"SELECT * FROM 'YOUR_TABLENAME' \",conn)\n",
    "\n",
    "print(df)"
   ]
  },
  {
   "cell_type": "code",
   "execution_count": 26,
   "id": "16f1aac6",
   "metadata": {},
   "outputs": [
    {
     "ename": "DatabaseError",
     "evalue": "2003 (HY000): Can't connect to MySQL server on 'localhost:3306' (10061)",
     "output_type": "error",
     "traceback": [
      "\u001b[1;31m---------------------------------------------------------------------------\u001b[0m",
      "\u001b[1;31mMySQLInterfaceError\u001b[0m                       Traceback (most recent call last)",
      "\u001b[1;32m~\\anaconda3\\lib\\site-packages\\mysql\\connector\\connection_cext.py\u001b[0m in \u001b[0;36m_open_connection\u001b[1;34m(self)\u001b[0m\n\u001b[0;32m    245\u001b[0m         \u001b[1;32mtry\u001b[0m\u001b[1;33m:\u001b[0m\u001b[1;33m\u001b[0m\u001b[1;33m\u001b[0m\u001b[0m\n\u001b[1;32m--> 246\u001b[1;33m             \u001b[0mself\u001b[0m\u001b[1;33m.\u001b[0m\u001b[0m_cmysql\u001b[0m\u001b[1;33m.\u001b[0m\u001b[0mconnect\u001b[0m\u001b[1;33m(\u001b[0m\u001b[1;33m**\u001b[0m\u001b[0mcnx_kwargs\u001b[0m\u001b[1;33m)\u001b[0m\u001b[1;33m\u001b[0m\u001b[1;33m\u001b[0m\u001b[0m\n\u001b[0m\u001b[0;32m    247\u001b[0m             \u001b[0mself\u001b[0m\u001b[1;33m.\u001b[0m\u001b[0m_cmysql\u001b[0m\u001b[1;33m.\u001b[0m\u001b[0mconverter_str_fallback\u001b[0m \u001b[1;33m=\u001b[0m \u001b[0mself\u001b[0m\u001b[1;33m.\u001b[0m\u001b[0m_converter_str_fallback\u001b[0m\u001b[1;33m\u001b[0m\u001b[1;33m\u001b[0m\u001b[0m\n",
      "\u001b[1;31mMySQLInterfaceError\u001b[0m: Can't connect to MySQL server on 'localhost:3306' (10061)",
      "\nDuring handling of the above exception, another exception occurred:\n",
      "\u001b[1;31mDatabaseError\u001b[0m                             Traceback (most recent call last)",
      "\u001b[1;32m<ipython-input-26-18b5ff854fba>\u001b[0m in \u001b[0;36m<module>\u001b[1;34m\u001b[0m\n\u001b[0;32m      1\u001b[0m \u001b[1;32mimport\u001b[0m \u001b[0mmysql\u001b[0m\u001b[1;33m.\u001b[0m\u001b[0mconnector\u001b[0m\u001b[1;33m\u001b[0m\u001b[1;33m\u001b[0m\u001b[0m\n\u001b[0;32m      2\u001b[0m \u001b[1;33m\u001b[0m\u001b[0m\n\u001b[1;32m----> 3\u001b[1;33m db = mysql.connector.connect(\n\u001b[0m\u001b[0;32m      4\u001b[0m    \u001b[0mhost\u001b[0m\u001b[1;33m=\u001b[0m\u001b[1;34m\"localhost\"\u001b[0m\u001b[1;33m,\u001b[0m\u001b[1;33m\u001b[0m\u001b[1;33m\u001b[0m\u001b[0m\n\u001b[0;32m      5\u001b[0m    \u001b[0muser\u001b[0m\u001b[1;33m=\u001b[0m\u001b[1;34m\"rajat\"\u001b[0m\u001b[1;33m,\u001b[0m\u001b[1;33m\u001b[0m\u001b[1;33m\u001b[0m\u001b[0m\n",
      "\u001b[1;32m~\\anaconda3\\lib\\site-packages\\mysql\\connector\\__init__.py\u001b[0m in \u001b[0;36mconnect\u001b[1;34m(*args, **kwargs)\u001b[0m\n\u001b[0;32m    270\u001b[0m \u001b[1;33m\u001b[0m\u001b[0m\n\u001b[0;32m    271\u001b[0m     \u001b[1;32mif\u001b[0m \u001b[0mHAVE_CEXT\u001b[0m \u001b[1;32mand\u001b[0m \u001b[1;32mnot\u001b[0m \u001b[0muse_pure\u001b[0m\u001b[1;33m:\u001b[0m\u001b[1;33m\u001b[0m\u001b[1;33m\u001b[0m\u001b[0m\n\u001b[1;32m--> 272\u001b[1;33m         \u001b[1;32mreturn\u001b[0m \u001b[0mCMySQLConnection\u001b[0m\u001b[1;33m(\u001b[0m\u001b[1;33m*\u001b[0m\u001b[0margs\u001b[0m\u001b[1;33m,\u001b[0m \u001b[1;33m**\u001b[0m\u001b[0mkwargs\u001b[0m\u001b[1;33m)\u001b[0m\u001b[1;33m\u001b[0m\u001b[1;33m\u001b[0m\u001b[0m\n\u001b[0m\u001b[0;32m    273\u001b[0m     \u001b[1;32mreturn\u001b[0m \u001b[0mMySQLConnection\u001b[0m\u001b[1;33m(\u001b[0m\u001b[1;33m*\u001b[0m\u001b[0margs\u001b[0m\u001b[1;33m,\u001b[0m \u001b[1;33m**\u001b[0m\u001b[0mkwargs\u001b[0m\u001b[1;33m)\u001b[0m\u001b[1;33m\u001b[0m\u001b[1;33m\u001b[0m\u001b[0m\n\u001b[0;32m    274\u001b[0m \u001b[0mConnect\u001b[0m \u001b[1;33m=\u001b[0m \u001b[0mconnect\u001b[0m  \u001b[1;31m# pylint: disable=C0103\u001b[0m\u001b[1;33m\u001b[0m\u001b[1;33m\u001b[0m\u001b[0m\n",
      "\u001b[1;32m~\\anaconda3\\lib\\site-packages\\mysql\\connector\\connection_cext.py\u001b[0m in \u001b[0;36m__init__\u001b[1;34m(self, **kwargs)\u001b[0m\n\u001b[0;32m     92\u001b[0m \u001b[1;33m\u001b[0m\u001b[0m\n\u001b[0;32m     93\u001b[0m         \u001b[1;32mif\u001b[0m \u001b[0mkwargs\u001b[0m\u001b[1;33m:\u001b[0m\u001b[1;33m\u001b[0m\u001b[1;33m\u001b[0m\u001b[0m\n\u001b[1;32m---> 94\u001b[1;33m             \u001b[0mself\u001b[0m\u001b[1;33m.\u001b[0m\u001b[0mconnect\u001b[0m\u001b[1;33m(\u001b[0m\u001b[1;33m**\u001b[0m\u001b[0mkwargs\u001b[0m\u001b[1;33m)\u001b[0m\u001b[1;33m\u001b[0m\u001b[1;33m\u001b[0m\u001b[0m\n\u001b[0m\u001b[0;32m     95\u001b[0m \u001b[1;33m\u001b[0m\u001b[0m\n\u001b[0;32m     96\u001b[0m     \u001b[1;32mdef\u001b[0m \u001b[0m_add_default_conn_attrs\u001b[0m\u001b[1;33m(\u001b[0m\u001b[0mself\u001b[0m\u001b[1;33m)\u001b[0m\u001b[1;33m:\u001b[0m\u001b[1;33m\u001b[0m\u001b[1;33m\u001b[0m\u001b[0m\n",
      "\u001b[1;32m~\\anaconda3\\lib\\site-packages\\mysql\\connector\\abstracts.py\u001b[0m in \u001b[0;36mconnect\u001b[1;34m(self, **kwargs)\u001b[0m\n\u001b[0;32m   1050\u001b[0m \u001b[1;33m\u001b[0m\u001b[0m\n\u001b[0;32m   1051\u001b[0m         \u001b[0mself\u001b[0m\u001b[1;33m.\u001b[0m\u001b[0mdisconnect\u001b[0m\u001b[1;33m(\u001b[0m\u001b[1;33m)\u001b[0m\u001b[1;33m\u001b[0m\u001b[1;33m\u001b[0m\u001b[0m\n\u001b[1;32m-> 1052\u001b[1;33m         \u001b[0mself\u001b[0m\u001b[1;33m.\u001b[0m\u001b[0m_open_connection\u001b[0m\u001b[1;33m(\u001b[0m\u001b[1;33m)\u001b[0m\u001b[1;33m\u001b[0m\u001b[1;33m\u001b[0m\u001b[0m\n\u001b[0m\u001b[0;32m   1053\u001b[0m         \u001b[1;31m# Server does not allow to run any other statement different from ALTER\u001b[0m\u001b[1;33m\u001b[0m\u001b[1;33m\u001b[0m\u001b[1;33m\u001b[0m\u001b[0m\n\u001b[0;32m   1054\u001b[0m         \u001b[1;31m# when user's password has been expired.\u001b[0m\u001b[1;33m\u001b[0m\u001b[1;33m\u001b[0m\u001b[1;33m\u001b[0m\u001b[0m\n",
      "\u001b[1;32m~\\anaconda3\\lib\\site-packages\\mysql\\connector\\connection_cext.py\u001b[0m in \u001b[0;36m_open_connection\u001b[1;34m(self)\u001b[0m\n\u001b[0;32m    249\u001b[0m                 \u001b[0mself\u001b[0m\u001b[1;33m.\u001b[0m\u001b[0mconverter\u001b[0m\u001b[1;33m.\u001b[0m\u001b[0mstr_fallback\u001b[0m \u001b[1;33m=\u001b[0m \u001b[0mself\u001b[0m\u001b[1;33m.\u001b[0m\u001b[0m_converter_str_fallback\u001b[0m\u001b[1;33m\u001b[0m\u001b[1;33m\u001b[0m\u001b[0m\n\u001b[0;32m    250\u001b[0m         \u001b[1;32mexcept\u001b[0m \u001b[0mMySQLInterfaceError\u001b[0m \u001b[1;32mas\u001b[0m \u001b[0mexc\u001b[0m\u001b[1;33m:\u001b[0m\u001b[1;33m\u001b[0m\u001b[1;33m\u001b[0m\u001b[0m\n\u001b[1;32m--> 251\u001b[1;33m             raise errors.get_mysql_exception(msg=exc.msg, errno=exc.errno,\n\u001b[0m\u001b[0;32m    252\u001b[0m                                              sqlstate=exc.sqlstate)\n\u001b[0;32m    253\u001b[0m \u001b[1;33m\u001b[0m\u001b[0m\n",
      "\u001b[1;31mDatabaseError\u001b[0m: 2003 (HY000): Can't connect to MySQL server on 'localhost:3306' (10061)"
     ]
    }
   ],
   "source": [
    "import mysql.connector\n",
    "\n",
    "db = mysql.connector.connect(\n",
    "   host=\"localhost\",\n",
    "   user=\"rajat\",\n",
    "   passwd=\"\"\n",
    ")\n",
    "\n",
    "print(db)"
   ]
  },
  {
   "cell_type": "code",
   "execution_count": null,
   "id": "f0b70d55",
   "metadata": {},
   "outputs": [],
   "source": []
  }
 ],
 "metadata": {
  "kernelspec": {
   "display_name": "Python 3",
   "language": "python",
   "name": "python3"
  },
  "language_info": {
   "codemirror_mode": {
    "name": "ipython",
    "version": 3
   },
   "file_extension": ".py",
   "mimetype": "text/x-python",
   "name": "python",
   "nbconvert_exporter": "python",
   "pygments_lexer": "ipython3",
   "version": "3.8.8"
  }
 },
 "nbformat": 4,
 "nbformat_minor": 5
}
