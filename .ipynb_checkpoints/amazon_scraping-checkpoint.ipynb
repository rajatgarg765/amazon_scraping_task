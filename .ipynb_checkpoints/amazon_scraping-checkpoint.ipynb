{
 "cells": [
  {
   "cell_type": "code",
   "execution_count": 1,
   "id": "72037e62",
   "metadata": {},
   "outputs": [],
   "source": [
    "import pandas as pd\n",
    "from bs4 import BeautifulSoup"
   ]
  },
  {
   "cell_type": "code",
   "execution_count": 2,
   "id": "a5bf9d7f",
   "metadata": {},
   "outputs": [],
   "source": [
    "import time\n",
    "import requests"
   ]
  },
  {
   "cell_type": "code",
   "execution_count": 3,
   "id": "8b62b3f2",
   "metadata": {},
   "outputs": [
    {
     "data": {
      "text/html": [
       "<div>\n",
       "<style scoped>\n",
       "    .dataframe tbody tr th:only-of-type {\n",
       "        vertical-align: middle;\n",
       "    }\n",
       "\n",
       "    .dataframe tbody tr th {\n",
       "        vertical-align: top;\n",
       "    }\n",
       "\n",
       "    .dataframe thead th {\n",
       "        text-align: right;\n",
       "    }\n",
       "</style>\n",
       "<table border=\"1\" class=\"dataframe\">\n",
       "  <thead>\n",
       "    <tr style=\"text-align: right;\">\n",
       "      <th></th>\n",
       "      <th>Unnamed: 0</th>\n",
       "      <th>id</th>\n",
       "      <th>Asin</th>\n",
       "      <th>country</th>\n",
       "    </tr>\n",
       "  </thead>\n",
       "  <tbody>\n",
       "    <tr>\n",
       "      <th>0</th>\n",
       "      <td>0</td>\n",
       "      <td>1</td>\n",
       "      <td>1015</td>\n",
       "      <td>de</td>\n",
       "    </tr>\n",
       "    <tr>\n",
       "      <th>1</th>\n",
       "      <td>1</td>\n",
       "      <td>2424796</td>\n",
       "      <td>1015</td>\n",
       "      <td>fr</td>\n",
       "    </tr>\n",
       "    <tr>\n",
       "      <th>2</th>\n",
       "      <td>2</td>\n",
       "      <td>2</td>\n",
       "      <td>000004458X</td>\n",
       "      <td>de</td>\n",
       "    </tr>\n",
       "    <tr>\n",
       "      <th>3</th>\n",
       "      <td>3</td>\n",
       "      <td>2424797</td>\n",
       "      <td>000004458X</td>\n",
       "      <td>fr</td>\n",
       "    </tr>\n",
       "    <tr>\n",
       "      <th>4</th>\n",
       "      <td>4</td>\n",
       "      <td>3</td>\n",
       "      <td>1002198</td>\n",
       "      <td>de</td>\n",
       "    </tr>\n",
       "  </tbody>\n",
       "</table>\n",
       "</div>"
      ],
      "text/plain": [
       "   Unnamed: 0       id        Asin country\n",
       "0           0        1        1015      de\n",
       "1           1  2424796        1015      fr\n",
       "2           2        2  000004458X      de\n",
       "3           3  2424797  000004458X      fr\n",
       "4           4        3     1002198      de"
      ]
     },
     "execution_count": 3,
     "metadata": {},
     "output_type": "execute_result"
    }
   ],
   "source": [
    "df=pd.read_csv(\"Amazon Scraping - Sheet1.csv\")\n",
    "df.head()"
   ]
  },
  {
   "cell_type": "code",
   "execution_count": 4,
   "id": "cf2598d5",
   "metadata": {},
   "outputs": [
    {
     "name": "stdout",
     "output_type": "stream",
     "text": [
      "<Response [200]>\n",
      "<span class=\"a-size-large product-title-word-break\" id=\"productTitle\">        Old Spice Rasur Creme - 70 G (original) - Packung Von 2       </span>\n",
      "{\"https://m.media-amazon.com/images/I/41xHbjdSXJL._SX355_PIbundle-2,TopRight,0,0_SX355SY222SH20_.jpg\":[222,355],\"https://m.media-amazon.com/images/I/41xHbjdSXJL._SX425_PIbundle-2,TopRight,0,0_SX425SY266SH20_.jpg\":[266,425],\"https://m.media-amazon.com/images/I/41xHbjdSXJL._PIbundle-2,TopRight,0,0_SX480SY300SH20_.jpg\":[300,480],\"https://m.media-amazon.com/images/I/41xHbjdSXJL._SX450_PIbundle-2,TopRight,0,0_SX450SY281SH20_.jpg\":[281,450],\"https://m.media-amazon.com/images/I/41xHbjdSXJL._SX466_PIbundle-2,TopRight,0,0_SX466SY291SH20_.jpg\":[291,466]}\n"
     ]
    }
   ],
   "source": [
    "x1=\"https://www.amazon.de/dp/000004458X\"\n",
    "# from selenium import webdriver\n",
    "from requests.auth import HTTPBasicAuth\n",
    "headers = {'User-Agent': 'Mozilla/5.0 (Windows NT 6.3; Win64; x64) AppleWebKit/537.36 (KHTML, like Gecko) Chrome/54.0.2840.71 Safari/537.36'}\n",
    "webpage = requests.get(x1,headers=headers,auth=HTTPBasicAuth('rajat', 'password'))\n",
    "print(webpage)\n",
    "soup = BeautifulSoup(webpage.content, \"lxml\")\n",
    "\n",
    "\n",
    "try:\n",
    "  result1={}\n",
    "  title = soup.find(\"span\",attrs={\"id\": 'productTitle'})\n",
    "  img=soup.find(\"div\",attrs={\"id\":'imgTagWrapperId'})\n",
    "  print(title)\n",
    "  print(img.img['data-a-dynamic-image'])\n",
    "  result1['img']=img.img['data-a-dynamic-image']\n",
    "\n",
    "  title_value = title.string\n",
    "  result1['title']=title_value\n",
    "  #print(title_value)\n",
    "\n",
    "  price=soup.find(\"span\",attrs={\"class\":'a-offscreen'})\n",
    "  price_string = price.text.replace(',', '.')\n",
    "  price_string = price_string.replace('€', '')\n",
    "  result1['price']=price_string\n",
    "  \n",
    "  productDetails=soup.find(\"ul\",attrs={\"class\":'a-unordered-list a-vertical a-spacing-mini'})\n",
    "  #print(productDetails.text)\n",
    "  result1['product-deatils']=productDetails.text\n",
    "           \n",
    "except Exception as e:\n",
    "    print(x1)"
   ]
  },
  {
   "cell_type": "code",
   "execution_count": 5,
   "id": "cf4e5dcb",
   "metadata": {},
   "outputs": [
    {
     "name": "stdout",
     "output_type": "stream",
     "text": [
      "{'img': '{\"https://m.media-amazon.com/images/I/41xHbjdSXJL._SX355_PIbundle-2,TopRight,0,0_SX355SY222SH20_.jpg\":[222,355],\"https://m.media-amazon.com/images/I/41xHbjdSXJL._SX425_PIbundle-2,TopRight,0,0_SX425SY266SH20_.jpg\":[266,425],\"https://m.media-amazon.com/images/I/41xHbjdSXJL._PIbundle-2,TopRight,0,0_SX480SY300SH20_.jpg\":[300,480],\"https://m.media-amazon.com/images/I/41xHbjdSXJL._SX450_PIbundle-2,TopRight,0,0_SX450SY281SH20_.jpg\":[281,450],\"https://m.media-amazon.com/images/I/41xHbjdSXJL._SX466_PIbundle-2,TopRight,0,0_SX466SY291SH20_.jpg\":[291,466]}', 'title': '        Old Spice Rasur Creme - 70 G (original) - Packung Von 2       ', 'price': '8.00', 'product-deatils': '  Gute Schmierqualität in Old Spice Lather Rasierschaum gibt optimale Gleitfähigkeit aktions eine engere, angenehme Rasur. Richer, länger - dauernden Schaum hält während Ihrer Rasur auf. Verwenden Old Spice Lather Rasiercreme, wo Sie die männliche Frische der alten Gewürz finden.   '}\n"
     ]
    }
   ],
   "source": [
    "print(result1)"
   ]
  },
  {
   "cell_type": "code",
   "execution_count": 6,
   "id": "1d549a8e",
   "metadata": {},
   "outputs": [
    {
     "name": "stdout",
     "output_type": "stream",
     "text": [
      "1 https://www.amazon.de/dp/1015\n",
      "2 https://www.amazon.fr/dp/1015\n",
      "3 --------------FOUND----------------\n",
      "4 https://www.amazon.fr/dp/000004458X\n",
      "5 https://www.amazon.de/dp/1002198\n",
      "6 https://www.amazon.fr/dp/1002198\n",
      "7 https://www.amazon.fr/dp/1002791\n",
      "8 https://www.amazon.it/dp/1002791\n",
      "9 https://www.amazon.de/dp/1002864\n",
      "10 https://www.amazon.fr/dp/1002864\n",
      "11 https://www.amazon.de/dp/1003704\n",
      "12 https://www.amazon.fr/dp/1003704\n",
      "13 https://www.amazon.de/dp/1003763\n",
      "14 https://www.amazon.fr/dp/1003763\n",
      "15 https://www.amazon.fr/dp/1004271\n",
      "16 https://www.amazon.it/dp/1004271\n",
      "17 https://www.amazon.de/dp/000101742X\n",
      "18 https://www.amazon.fr/dp/000101742X\n",
      "19 https://www.amazon.de/dp/1017519\n",
      "20 https://www.amazon.fr/dp/1017519\n",
      "21 https://www.amazon.de/dp/000102163X\n",
      "22 https://www.amazon.fr/dp/000102163X\n",
      "23 https://www.amazon.fr/dp/1022369\n",
      "24 https://www.amazon.it/dp/1022369\n",
      "25 https://www.amazon.fr/dp/1022857\n",
      "26 https://www.amazon.it/dp/1022857\n",
      "27 https://www.amazon.de/dp/1032666\n",
      "28 https://www.amazon.fr/dp/1032666\n",
      "29 https://www.amazon.de/dp/1034677\n",
      "30 https://www.amazon.fr/dp/1034677\n",
      "31 https://www.amazon.de/dp/1034936\n",
      "32 https://www.amazon.fr/dp/1034936\n",
      "33 https://www.amazon.de/dp/1034944\n",
      "34 https://www.amazon.fr/dp/1034944\n",
      "35 https://www.amazon.de/dp/1035002\n",
      "36 https://www.amazon.fr/dp/1035002\n",
      "37 https://www.amazon.de/dp/1035029\n",
      "38 https://www.amazon.fr/dp/1035029\n",
      "39 https://www.amazon.de/dp/1035053\n",
      "40 https://www.amazon.es/dp/1035053\n",
      "41 https://www.amazon.fr/dp/1035053\n",
      "42 https://www.amazon.de/dp/1035339\n",
      "43 https://www.amazon.fr/dp/1035339\n",
      "44 https://www.amazon.de/dp/1036866\n",
      "45 https://www.amazon.es/dp/1036866\n",
      "46 https://www.amazon.fr/dp/1036866\n",
      "47 https://www.amazon.de/dp/1037137\n",
      "48 https://www.amazon.fr/dp/1037137\n",
      "49 https://www.amazon.de/dp/1037188\n",
      "50 https://www.amazon.fr/dp/1037188\n",
      "51 https://www.amazon.de/dp/1037994\n",
      "52 https://www.amazon.fr/dp/1037994\n",
      "53 https://www.amazon.de/dp/000103863X\n",
      "54 https://www.amazon.fr/dp/000103863X\n",
      "55 https://www.amazon.de/dp/1039466\n",
      "56 https://www.amazon.fr/dp/1039466\n",
      "57 https://www.amazon.fr/dp/1040871\n",
      "58 https://www.amazon.it/dp/1040871\n",
      "59 https://www.amazon.de/dp/1040979\n",
      "60 https://www.amazon.fr/dp/1040979\n",
      "61 https://www.amazon.de/dp/1040987\n",
      "62 https://www.amazon.fr/dp/1040987\n",
      "63 https://www.amazon.de/dp/1041002\n",
      "64 https://www.amazon.fr/dp/1041002\n",
      "65 https://www.amazon.de/dp/1041991\n",
      "66 https://www.amazon.fr/dp/1041991\n",
      "67 https://www.amazon.de/dp/000104317X\n",
      "68 https://www.amazon.fr/dp/000104317X\n",
      "69 https://www.amazon.de/dp/1043331\n",
      "70 https://www.amazon.fr/dp/1043331\n",
      "71 https://www.amazon.de/dp/000104348X\n",
      "72 https://www.amazon.fr/dp/000104348X\n",
      "73 https://www.amazon.de/dp/1043498\n",
      "74 https://www.amazon.fr/dp/1043498\n",
      "75 https://www.amazon.de/dp/1043773\n",
      "76 https://www.amazon.fr/dp/1043773\n",
      "77 https://www.amazon.de/dp/000104396X\n",
      "78 https://www.amazon.fr/dp/000104396X\n",
      "79 https://www.amazon.de/dp/1048325\n",
      "80 https://www.amazon.fr/dp/1048325\n",
      "81 https://www.amazon.de/dp/1049119\n",
      "82 https://www.amazon.fr/dp/1049119\n",
      "83 https://www.amazon.de/dp/1057774\n",
      "84 https://www.amazon.fr/dp/1057774\n",
      "85 https://www.amazon.de/dp/1057790\n",
      "86 https://www.amazon.es/dp/1057790\n",
      "87 https://www.amazon.fr/dp/1057790\n",
      "88 https://www.amazon.de/dp/1057812\n",
      "89 https://www.amazon.es/dp/1057812\n",
      "90 https://www.amazon.fr/dp/1057812\n",
      "91 https://www.amazon.de/dp/1057987\n",
      "92 https://www.amazon.fr/dp/1057987\n",
      "93 https://www.amazon.de/dp/1059238\n",
      "94 https://www.amazon.fr/dp/1059238\n",
      "95 https://www.amazon.de/dp/1060619\n",
      "96 https://www.amazon.fr/dp/1060619\n",
      "97 https://www.amazon.de/dp/1060694\n",
      "98 https://www.amazon.es/dp/1060694\n",
      "99 https://www.amazon.fr/dp/1060694\n",
      "100 https://www.amazon.de/dp/1061305\n"
     ]
    }
   ],
   "source": [
    "c=0\n",
    "mega= {}\n",
    "result={}\n",
    "for i, j in zip(range(len(df['country'])), range(len(df['Asin']))):\n",
    "  url=\"https://www.amazon.{}/dp/{}\".format(df['country'][i],df['Asin'][j])\n",
    "  headers = {'User-Agent': 'Mozilla/5.0 (Windows NT 6.3; Win64; x64) AppleWebKit/537.36 (KHTML, like Gecko) Chrome/54.0.2840.71 Safari/537.36'}\n",
    "  # print(url)\n",
    "  if c==100:\n",
    "    break\n",
    "  c+=1\n",
    "  try:\n",
    "    webpage = requests.get(url, headers = headers, auth=HTTPBasicAuth('rajat', 'password'))\n",
    "    soup = BeautifulSoup(webpage.content, \"lxml\")\n",
    "    \n",
    "    title = soup.find(\"span\",attrs={\"id\": 'productTitle'})\n",
    "    img=soup.find(\"div\",attrs={\"id\":'imgTagWrapperId'})\n",
    "    #print(img.img['data-a-dynamic-image'])\n",
    "    result['img']=img.img['data-a-dynamic-image']\n",
    "\n",
    "    title_value = title.string\n",
    "    title.string = title.string.replace(' ', '')\n",
    "    result['title']=title.string\n",
    "\n",
    "    #print(title_value)\n",
    "\n",
    "    price=soup.find(\"span\",attrs={\"class\":'a-offscreen'})\n",
    "    price_string = price.text.replace(',', '.')\n",
    "    price_string = price_string.replace('€', '')\n",
    "    result['price']=price_string\n",
    "  \n",
    "    productDetails=soup.find(\"ul\",attrs={\"class\":'a-unordered-list a-vertical a-spacing-mini'})\n",
    "    #print(productDetails.text)\n",
    "    result['product-deatils']=productDetails.text\n",
    "    mega[c] = result\n",
    "  \n",
    "    print(c,\"--------------FOUND----------------\")\n",
    "  except Exception as e:\n",
    "      print(c, url)"
   ]
  },
  {
   "cell_type": "code",
   "execution_count": 7,
   "id": "03c18eec",
   "metadata": {},
   "outputs": [
    {
     "name": "stdout",
     "output_type": "stream",
     "text": [
      "{3: {'img': '{\"https://m.media-amazon.com/images/I/41xHbjdSXJL._SX355_PIbundle-2,TopRight,0,0_SX355SY222SH20_.jpg\":[222,355],\"https://m.media-amazon.com/images/I/41xHbjdSXJL._SX425_PIbundle-2,TopRight,0,0_SX425SY266SH20_.jpg\":[266,425],\"https://m.media-amazon.com/images/I/41xHbjdSXJL._PIbundle-2,TopRight,0,0_SX480SY300SH20_.jpg\":[300,480],\"https://m.media-amazon.com/images/I/41xHbjdSXJL._SX450_PIbundle-2,TopRight,0,0_SX450SY281SH20_.jpg\":[281,450],\"https://m.media-amazon.com/images/I/41xHbjdSXJL._SX466_PIbundle-2,TopRight,0,0_SX466SY291SH20_.jpg\":[291,466]}', 'title': 'OldSpiceRasurCreme-70G(original)-PackungVon2', 'price': '8.00', 'product-deatils': '  Gute Schmierqualität in Old Spice Lather Rasierschaum gibt optimale Gleitfähigkeit aktions eine engere, angenehme Rasur. Richer, länger - dauernden Schaum hält während Ihrer Rasur auf. Verwenden Old Spice Lather Rasiercreme, wo Sie die männliche Frische der alten Gewürz finden.   '}}\n"
     ]
    }
   ],
   "source": [
    "print(mega)"
   ]
  },
  {
   "cell_type": "code",
   "execution_count": 8,
   "id": "3dad8ff3",
   "metadata": {},
   "outputs": [
    {
     "name": "stdout",
     "output_type": "stream",
     "text": [
      "{\n",
      "    \"3\": {\n",
      "        \"img\": \"{\\\"https://m.media-amazon.com/images/I/41xHbjdSXJL._SX355_PIbundle-2,TopRight,0,0_SX355SY222SH20_.jpg\\\":[222,355],\\\"https://m.media-amazon.com/images/I/41xHbjdSXJL._SX425_PIbundle-2,TopRight,0,0_SX425SY266SH20_.jpg\\\":[266,425],\\\"https://m.media-amazon.com/images/I/41xHbjdSXJL._PIbundle-2,TopRight,0,0_SX480SY300SH20_.jpg\\\":[300,480],\\\"https://m.media-amazon.com/images/I/41xHbjdSXJL._SX450_PIbundle-2,TopRight,0,0_SX450SY281SH20_.jpg\\\":[281,450],\\\"https://m.media-amazon.com/images/I/41xHbjdSXJL._SX466_PIbundle-2,TopRight,0,0_SX466SY291SH20_.jpg\\\":[291,466]}\",\n",
      "        \"title\": \"OldSpiceRasurCreme-70G(original)-PackungVon2\",\n",
      "        \"price\": \"8.00\",\n",
      "        \"product-deatils\": \"  Gute Schmierqualit\\u00e4t in Old Spice Lather Rasierschaum gibt optimale Gleitf\\u00e4higkeit aktions eine engere, angenehme Rasur. Richer, l\\u00e4nger - dauernden Schaum h\\u00e4lt w\\u00e4hrend Ihrer Rasur auf. Verwenden Old Spice Lather Rasiercreme, wo Sie die m\\u00e4nnliche Frische der alten Gew\\u00fcrz finden.   \"\n",
      "    }\n",
      "}\n"
     ]
    }
   ],
   "source": [
    "import json  \n",
    "json_object = json.dumps(mega, indent = 4) \n",
    "print(json_object)"
   ]
  },
  {
   "cell_type": "code",
   "execution_count": null,
   "id": "c8961a8d",
   "metadata": {},
   "outputs": [],
   "source": []
  },
  {
   "cell_type": "code",
   "execution_count": null,
   "id": "fdfe1c86",
   "metadata": {},
   "outputs": [],
   "source": []
  }
 ],
 "metadata": {
  "kernelspec": {
   "display_name": "Python 3",
   "language": "python",
   "name": "python3"
  },
  "language_info": {
   "codemirror_mode": {
    "name": "ipython",
    "version": 3
   },
   "file_extension": ".py",
   "mimetype": "text/x-python",
   "name": "python",
   "nbconvert_exporter": "python",
   "pygments_lexer": "ipython3",
   "version": "3.8.8"
  }
 },
 "nbformat": 4,
 "nbformat_minor": 5
}
